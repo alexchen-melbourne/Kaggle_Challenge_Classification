{
 "cells": [
  {
   "cell_type": "markdown",
   "metadata": {},
   "source": [
    "# Kaggle project"
   ]
  },
  {
   "cell_type": "markdown",
   "metadata": {},
   "source": [
    "Analyzing weather data and GIS data and predicting whether or not West Nile virus is present, for a given time, location, and species"
   ]
  },
  {
   "cell_type": "code",
   "execution_count": 176,
   "metadata": {
    "collapsed": true
   },
   "outputs": [],
   "source": [
    "import numpy as np\n",
    "import pandas as pd"
   ]
  },
  {
   "cell_type": "code",
   "execution_count": 177,
   "metadata": {
    "collapsed": true
   },
   "outputs": [],
   "source": [
    "# load datasets\n",
    "\n",
    "weather = pd.read_csv('assets/weather.csv')\n",
    "spray = pd.read_csv('assets/spray.csv')\n",
    "train = pd.read_csv('assets/train.csv')\n",
    "test = pd.read_csv('assets/test.csv')"
   ]
  },
  {
   "cell_type": "markdown",
   "metadata": {
    "collapsed": true
   },
   "source": [
    "In train and test data:\n",
    "- NumMosquitos: number of mosquitoes caught in this trap\n",
    "- WnvPresent: whether West Nile Virus was present in these mosquitos. 1 means WNV is present, and 0 means not present. \n"
   ]
  },
  {
   "cell_type": "markdown",
   "metadata": {},
   "source": [
    "## Join weather and spray info to a new training dataset"
   ]
  },
  {
   "cell_type": "code",
   "execution_count": 178,
   "metadata": {},
   "outputs": [
    {
     "data": {
      "text/html": [
       "<div>\n",
       "<style>\n",
       "    .dataframe thead tr:only-child th {\n",
       "        text-align: right;\n",
       "    }\n",
       "\n",
       "    .dataframe thead th {\n",
       "        text-align: left;\n",
       "    }\n",
       "\n",
       "    .dataframe tbody tr th {\n",
       "        vertical-align: top;\n",
       "    }\n",
       "</style>\n",
       "<table border=\"1\" class=\"dataframe\">\n",
       "  <thead>\n",
       "    <tr style=\"text-align: right;\">\n",
       "      <th></th>\n",
       "      <th>Date</th>\n",
       "      <th>Address</th>\n",
       "      <th>Species</th>\n",
       "      <th>Block</th>\n",
       "      <th>Street</th>\n",
       "      <th>Trap</th>\n",
       "      <th>AddressNumberAndStreet</th>\n",
       "      <th>Latitude</th>\n",
       "      <th>Longitude</th>\n",
       "      <th>AddressAccuracy</th>\n",
       "      <th>NumMosquitos</th>\n",
       "      <th>WnvPresent</th>\n",
       "    </tr>\n",
       "  </thead>\n",
       "  <tbody>\n",
       "    <tr>\n",
       "      <th>0</th>\n",
       "      <td>2007-05-29</td>\n",
       "      <td>4100 North Oak Park Avenue, Chicago, IL 60634,...</td>\n",
       "      <td>CULEX PIPIENS/RESTUANS</td>\n",
       "      <td>41</td>\n",
       "      <td>N OAK PARK AVE</td>\n",
       "      <td>T002</td>\n",
       "      <td>4100  N OAK PARK AVE, Chicago, IL</td>\n",
       "      <td>41.95469</td>\n",
       "      <td>-87.800991</td>\n",
       "      <td>9</td>\n",
       "      <td>1</td>\n",
       "      <td>0</td>\n",
       "    </tr>\n",
       "    <tr>\n",
       "      <th>1</th>\n",
       "      <td>2007-05-29</td>\n",
       "      <td>4100 North Oak Park Avenue, Chicago, IL 60634,...</td>\n",
       "      <td>CULEX RESTUANS</td>\n",
       "      <td>41</td>\n",
       "      <td>N OAK PARK AVE</td>\n",
       "      <td>T002</td>\n",
       "      <td>4100  N OAK PARK AVE, Chicago, IL</td>\n",
       "      <td>41.95469</td>\n",
       "      <td>-87.800991</td>\n",
       "      <td>9</td>\n",
       "      <td>1</td>\n",
       "      <td>0</td>\n",
       "    </tr>\n",
       "  </tbody>\n",
       "</table>\n",
       "</div>"
      ],
      "text/plain": [
       "         Date                                            Address  \\\n",
       "0  2007-05-29  4100 North Oak Park Avenue, Chicago, IL 60634,...   \n",
       "1  2007-05-29  4100 North Oak Park Avenue, Chicago, IL 60634,...   \n",
       "\n",
       "                  Species  Block           Street  Trap  \\\n",
       "0  CULEX PIPIENS/RESTUANS     41   N OAK PARK AVE  T002   \n",
       "1          CULEX RESTUANS     41   N OAK PARK AVE  T002   \n",
       "\n",
       "              AddressNumberAndStreet  Latitude  Longitude  AddressAccuracy  \\\n",
       "0  4100  N OAK PARK AVE, Chicago, IL  41.95469 -87.800991                9   \n",
       "1  4100  N OAK PARK AVE, Chicago, IL  41.95469 -87.800991                9   \n",
       "\n",
       "   NumMosquitos  WnvPresent  \n",
       "0             1           0  \n",
       "1             1           0  "
      ]
     },
     "execution_count": 178,
     "metadata": {},
     "output_type": "execute_result"
    }
   ],
   "source": [
    "train.head(2)"
   ]
  },
  {
   "cell_type": "code",
   "execution_count": 179,
   "metadata": {},
   "outputs": [
    {
     "data": {
      "text/plain": [
       "(10506, 12)"
      ]
     },
     "execution_count": 179,
     "metadata": {},
     "output_type": "execute_result"
    }
   ],
   "source": [
    "train.shape"
   ]
  },
  {
   "cell_type": "code",
   "execution_count": 180,
   "metadata": {},
   "outputs": [],
   "source": [
    "def r(x):\n",
    "    return round(x * 1000)\n",
    "\n",
    "sl = zip(spray.Latitude.map(r), spray.Longitude.map(r))\n",
    "rl = zip(train.Latitude.map(r), train.Longitude.map(r))\n",
    "\n",
    "train['ll_loc'] = zip(train.Latitude.map(r), train.Longitude.map(r))\n",
    "\n",
    "def check(x):\n",
    "    if x in sl:\n",
    "        return False\n",
    "    else:\n",
    "        return True\n",
    "\n",
    "train = train[train.ll_loc.map(check)]"
   ]
  },
  {
   "cell_type": "code",
   "execution_count": 181,
   "metadata": {},
   "outputs": [],
   "source": [
    "# Create a column which identifies which weather station is closest to the trap\n",
    "\n",
    "#Station 1: CHICAGO O'HARE INTERNATIONAL AIRPORT Lat: 41.995 Lon: -87.933 Elev: 662 ft. above sea level\n",
    "#Station 2: CHICAGO MIDWAY INTL ARPT Lat: 41.786 Lon: -87.752 Elev: 612 ft. above sea level\n",
    "\n",
    "station_1_lat = 41.995\n",
    "station_1_long = -87.933\n",
    "station_2_lat = 41.786\n",
    "station_2_long = -87.752\n",
    "\n",
    "# Combine lat & long into the one column\n",
    "\n",
    "train['lat_long_comb'] = zip(train['Latitude'],train['Longitude'])\n",
    "\n",
    "# Function to calculate distance from trap to each of the weather stations and then which is closest\n",
    "\n",
    "def station(value):\n",
    "    lat, lon = value\n",
    "    dist_1 = np.sqrt(abs(station_1_lat - lat) + abs(station_1_long - lon))\n",
    "    dist_2 = np.sqrt(abs(station_2_lat - lat) + abs(station_2_long - lon))\n",
    "    if dist_1 > dist_2:\n",
    "        return 2\n",
    "    else:\n",
    "        return 1\n",
    "\n",
    "train['closest_station'] = train['lat_long_comb'].apply(station)"
   ]
  },
  {
   "cell_type": "code",
   "execution_count": 182,
   "metadata": {},
   "outputs": [
    {
     "data": {
      "text/plain": [
       "(9543, 15)"
      ]
     },
     "execution_count": 182,
     "metadata": {},
     "output_type": "execute_result"
    }
   ],
   "source": [
    "train.shape"
   ]
  },
  {
   "cell_type": "code",
   "execution_count": 183,
   "metadata": {},
   "outputs": [],
   "source": [
    "cols= ['Station', 'Date', 'Tavg', 'DewPoint', 'WetBulb', \n",
    "       'Heat', 'Cool', 'StnPressure', 'SeaLevel', 'ResultSpeed', 'AvgSpeed']\n",
    "weather_chosen = weather[cols]"
   ]
  },
  {
   "cell_type": "code",
   "execution_count": 184,
   "metadata": {},
   "outputs": [
    {
     "data": {
      "text/plain": [
       "Station         0\n",
       "Date            0\n",
       "Tavg           11\n",
       "DewPoint        0\n",
       "WetBulb         4\n",
       "Heat           11\n",
       "Cool           11\n",
       "StnPressure     4\n",
       "SeaLevel        9\n",
       "ResultSpeed     0\n",
       "AvgSpeed        3\n",
       "dtype: int64"
      ]
     },
     "execution_count": 184,
     "metadata": {},
     "output_type": "execute_result"
    }
   ],
   "source": [
    "def checkifM(x):\n",
    "    if x == 'M':\n",
    "        return np.nan\n",
    "    else:\n",
    "        return x\n",
    "        \n",
    "weather_chosen = weather_chosen.applymap(checkifM)\n",
    "weather_chosen.isnull().sum()"
   ]
  },
  {
   "cell_type": "code",
   "execution_count": 185,
   "metadata": {},
   "outputs": [],
   "source": [
    "weather_chosen = weather_chosen.fillna(method='pad')"
   ]
  },
  {
   "cell_type": "code",
   "execution_count": 186,
   "metadata": {},
   "outputs": [],
   "source": [
    "w_1 = weather_chosen[weather_chosen.Station == 1]\n",
    "w_2 = weather_chosen[weather_chosen.Station == 2]"
   ]
  },
  {
   "cell_type": "code",
   "execution_count": 187,
   "metadata": {},
   "outputs": [],
   "source": [
    "t = train.copy()\n",
    "t.drop(['Address', 'AddressNumberAndStreet', 'll_loc', 'lat_long_comb', 'Street'], axis=1, inplace=True)"
   ]
  },
  {
   "cell_type": "code",
   "execution_count": 196,
   "metadata": {},
   "outputs": [
    {
     "data": {
      "text/plain": [
       "array(['2007-05-29', '2007-06-05', '2007-06-26', '2007-06-29',\n",
       "       '2007-07-02', '2007-07-11', '2007-07-18', '2007-07-19',\n",
       "       '2007-07-25', '2007-07-27', '2007-08-01', '2007-08-02',\n",
       "       '2007-08-03', '2007-08-07', '2007-08-08', '2007-08-09',\n",
       "       '2007-08-15', '2007-08-16', '2007-08-17', '2007-08-21',\n",
       "       '2007-08-22', '2007-08-24', '2007-08-28', '2007-09-04',\n",
       "       '2007-09-05', '2007-09-06', '2007-09-12', '2007-09-18',\n",
       "       '2007-09-19', '2007-09-24', '2007-09-25', '2007-10-04',\n",
       "       '2007-10-09', '2009-05-28', '2009-06-02', '2009-06-03',\n",
       "       '2009-06-05', '2009-06-12', '2009-06-15', '2009-06-19',\n",
       "       '2009-06-22', '2009-06-26', '2009-06-29', '2009-07-06',\n",
       "       '2009-07-10', '2009-07-13', '2009-07-17', '2009-07-24',\n",
       "       '2009-07-27', '2009-07-31', '2009-08-07', '2009-08-13',\n",
       "       '2009-08-25', '2009-08-27', '2009-09-03', '2009-09-14',\n",
       "       '2009-09-17', '2009-09-25', '2009-10-01', '2011-06-10',\n",
       "       '2011-06-17', '2011-06-24', '2011-06-30', '2011-07-11',\n",
       "       '2011-07-15', '2011-07-25', '2011-07-29', '2011-08-05',\n",
       "       '2011-08-12', '2011-08-19', '2011-08-26', '2011-09-01',\n",
       "       '2011-09-02', '2011-09-12', '2011-09-16', '2011-09-23',\n",
       "       '2011-09-30', '2013-06-07', '2013-06-14', '2013-06-21',\n",
       "       '2013-06-27', '2013-06-28', '2013-07-08', '2013-07-12',\n",
       "       '2013-07-19', '2013-07-25', '2013-08-01', '2013-08-08',\n",
       "       '2013-08-15', '2013-08-22', '2013-08-29', '2013-09-06',\n",
       "       '2013-09-12', '2013-09-19', '2013-09-26'], dtype=object)"
      ]
     },
     "execution_count": 196,
     "metadata": {},
     "output_type": "execute_result"
    }
   ],
   "source": [
    "t.Date.unique()"
   ]
  },
  {
   "cell_type": "code",
   "execution_count": 218,
   "metadata": {},
   "outputs": [
    {
     "name": "stdout",
     "output_type": "stream",
     "text": [
      "[56, 58, 60, 62, 64, 66, 68]\n"
     ]
    }
   ],
   "source": [
    "dat = '2007-05-29'\n",
    "st = 1\n",
    "\n",
    "i = w_1[w_1.Date == dat].index[0] \n",
    "print range(i, i+14, 2)"
   ]
  },
  {
   "cell_type": "markdown",
   "metadata": {},
   "source": [
    "## EDA"
   ]
  },
  {
   "cell_type": "code",
   "execution_count": null,
   "metadata": {
    "collapsed": true
   },
   "outputs": [],
   "source": []
  },
  {
   "cell_type": "code",
   "execution_count": null,
   "metadata": {
    "collapsed": true
   },
   "outputs": [],
   "source": []
  },
  {
   "cell_type": "markdown",
   "metadata": {},
   "source": [
    "## Build model"
   ]
  },
  {
   "cell_type": "code",
   "execution_count": null,
   "metadata": {
    "collapsed": true
   },
   "outputs": [],
   "source": []
  },
  {
   "cell_type": "markdown",
   "metadata": {},
   "source": [
    "## Get result"
   ]
  },
  {
   "cell_type": "code",
   "execution_count": null,
   "metadata": {
    "collapsed": true
   },
   "outputs": [],
   "source": []
  }
 ],
 "metadata": {
  "anaconda-cloud": {},
  "kernelspec": {
   "display_name": "Python [default]",
   "language": "python",
   "name": "python2"
  },
  "language_info": {
   "codemirror_mode": {
    "name": "ipython",
    "version": 2
   },
   "file_extension": ".py",
   "mimetype": "text/x-python",
   "name": "python",
   "nbconvert_exporter": "python",
   "pygments_lexer": "ipython2",
   "version": "2.7.13"
  }
 },
 "nbformat": 4,
 "nbformat_minor": 2
}
